{
 "cells": [
  {
   "cell_type": "code",
   "execution_count": null,
   "id": "0",
   "metadata": {},
   "outputs": [],
   "source": [
    "from mplsoccer import Sbopen, Pitch\n",
    "import pandas as pd"
   ]
  },
  {
   "cell_type": "code",
   "execution_count": null,
   "id": "1",
   "metadata": {},
   "outputs": [],
   "source": [
    "parser = Sbopen()\n",
    "comps = parser.competition()\n",
    "comps[[\"competition_name\",\"season_name\",\"competition_id\",\"season_id\"]].sort_values([\"competition_name\",\"season_name\"]).head(20)"
   ]
  },
  {
   "cell_type": "code",
   "execution_count": null,
   "id": "2",
   "metadata": {},
   "outputs": [],
   "source": [
    "row = comps.query(\"competition_name == 'Champions League' and season_name == '2008/2009'\").iloc[0]\n",
    "competition_id = int(row.competition_id)\n",
    "season_id = int(row.season_id)\n",
    "competition_id, season_id"
   ]
  },
  {
   "cell_type": "code",
   "execution_count": null,
   "id": "3",
   "metadata": {},
   "outputs": [],
   "source": [
    "matches = parser.match(competition_id=competition_id, season_id=season_id)\n",
    "matches_small = matches[[\"match_id\",\"match_date\",\"home_team_name\",\"away_team_name\"]]\n",
    "matches_small.head(10)"
   ]
  },
  {
   "cell_type": "code",
   "execution_count": null,
   "id": "4",
   "metadata": {},
   "outputs": [],
   "source": [
    "matches_b = matches_small[matches_small.home_team_name.eq(\"Barcelona\") | matches_small.away_team_name.eq(\"Manchester United\")]\n",
    "matches_b\n"
   ]
  },
  {
   "cell_type": "code",
   "execution_count": null,
   "id": "5",
   "metadata": {},
   "outputs": [],
   "source": [
    "# Option A: take the first row\n",
    "YOUR_MATCH_ID = int(matches_b.iloc[0].match_id)\n",
    "YOUR_MATCH_ID\n"
   ]
  },
  {
   "cell_type": "code",
   "execution_count": null,
   "id": "6",
   "metadata": {},
   "outputs": [],
   "source": [
    "events, related, freeze, tactics = parser.event(YOUR_MATCH_ID)\n",
    "\n",
    "passes = events.query(\"type_name == 'Pass'\").dropna(subset=[\"x\",\"y\",\"end_x\",\"end_y\"])\n",
    "shots  = events.query(\"type_name == 'Shot'\").dropna(subset=[\"x\",\"y\"])\n",
    "\n",
    "pitch = Pitch(pitch_type=\"statsbomb\")\n",
    "fig, ax = pitch.draw(figsize=(10, 6), tight_layout=True)\n",
    "pitch.flow(passes.x, passes.y, passes.end_x, passes.end_y, bins=(6,4), ax=ax, arrow_type=\"scale\")\n",
    "pitch.scatter(shots.x, shots.y, ax=ax, s=120, alpha=0.6)\n",
    "ax.set_title(f\"Pass flow + shot map — match_id={YOUR_MATCH_ID}\")\n"
   ]
  },
  {
   "cell_type": "code",
   "execution_count": null,
   "id": "7",
   "metadata": {},
   "outputs": [],
   "source": [
    "fig.savefig(\"figures/sb_flow_shots.png\", dpi=200, bbox_inches=\"tight\")"
   ]
  },
  {
   "cell_type": "code",
   "execution_count": null,
   "id": "8",
   "metadata": {},
   "outputs": [],
   "source": []
  }
 ],
 "metadata": {
  "kernelspec": {
   "display_name": "Python (football-viz)",
   "language": "python",
   "name": "football-viz"
  },
  "language_info": {
   "codemirror_mode": {
    "name": "ipython",
    "version": 3
   },
   "file_extension": ".py",
   "mimetype": "text/x-python",
   "name": "python",
   "nbconvert_exporter": "python",
   "pygments_lexer": "ipython3",
   "version": "3.11.13"
  }
 },
 "nbformat": 4,
 "nbformat_minor": 5
}
